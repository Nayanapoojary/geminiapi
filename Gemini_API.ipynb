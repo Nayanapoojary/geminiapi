{
  "cells": [
    {
      "cell_type": "markdown",
      "metadata": {
        "id": "view-in-github",
        "colab_type": "text"
      },
      "source": [
        "<a href=\"https://colab.research.google.com/github/Nayanapoojary/geminiapi/blob/main/Gemini_API.ipynb\" target=\"_parent\"><img src=\"https://colab.research.google.com/assets/colab-badge.svg\" alt=\"Open In Colab\"/></a>"
      ]
    },
    {
      "cell_type": "code",
      "execution_count": null,
      "metadata": {
        "id": "arrLsom-LofM",
        "colab": {
          "base_uri": "https://localhost:8080/"
        },
        "outputId": "d3d23f09-766a-4dca-b648-9ed9d2501ca0"
      },
      "outputs": [
        {
          "output_type": "stream",
          "name": "stdout",
          "text": [
            "\u001b[2K     \u001b[90m━━━━━━━━━━━━━━━━━━━━━━━━━━━━━━━━━━━━━━━━\u001b[0m \u001b[32m43.1/43.1 kB\u001b[0m \u001b[31m2.3 MB/s\u001b[0m eta \u001b[36m0:00:00\u001b[0m\n",
            "\u001b[2K   \u001b[90m━━━━━━━━━━━━━━━━━━━━━━━━━━━━━━━━━━━━━━━━\u001b[0m \u001b[32m219.4/219.4 kB\u001b[0m \u001b[31m8.7 MB/s\u001b[0m eta \u001b[36m0:00:00\u001b[0m\n",
            "\u001b[?25h"
          ]
        }
      ],
      "source": [
        "%pip install --upgrade --quiet google-genai"
      ]
    },
    {
      "cell_type": "code",
      "execution_count": null,
      "metadata": {
        "id": "ClsXnHqMNfRx"
      },
      "outputs": [],
      "source": [
        "import sys\n",
        "if \"ggogle.colab\" in sys.modules:\n",
        "  from google.colab import auth\n",
        "  auth.authenticate_user()"
      ]
    },
    {
      "cell_type": "code",
      "execution_count": null,
      "metadata": {
        "id": "y8jsGikkO-MD"
      },
      "outputs": [],
      "source": [
        "from google.colab import userdata\n",
        "from google import genai\n",
        "\n",
        "\n",
        "GOOGLE_API_KEY = userdata.get('GOOGLE_API_KEY')\n",
        "client = genai.Client(api_key=GOOGLE_API_KEY)\n"
      ]
    },
    {
      "cell_type": "code",
      "execution_count": null,
      "metadata": {
        "id": "1yfL2w8xPQyr"
      },
      "outputs": [],
      "source": [
        "MODEL_ID=\"gemini-2.0-flash\""
      ]
    },
    {
      "cell_type": "code",
      "execution_count": null,
      "metadata": {
        "colab": {
          "base_uri": "https://localhost:8080/",
          "height": 123
        },
        "id": "aG_ri76_QBXP",
        "outputId": "1786c6ac-476a-47e0-ec5c-0cfacde8437c"
      },
      "outputs": [
        {
          "output_type": "execute_result",
          "data": {
            "text/plain": [
              "\"Okay, let's break down what you can *do* in an AI workshop, and then how to ensure you can easily go home afterward.\\n\\n**What You Can *Do* in an AI Workshop:**\\n\\nThe activities in an AI workshop depend heavily on the target audience, skill level, and focus. Here are common elements and possibilities, categorized for clarity:\\n\\n**1. Learning & Understanding:**\\n\\n*   **Introduction to AI Concepts:**\\n    *   **Lectures/Presentations:**  Overview of AI, Machine Learning (ML), Deep Learning (DL), Natural Language Processing (NLP), Computer Vision, etc.  Defining key terms.\\n    *   **Discussions:** Q&A sessions to clarify concepts, explore real-world applications, and debate ethical considerations.\\n*   **Types of AI:**\\n    *   **Supervised Learning:** Training algorithms on labeled data.\\n    *   **Unsupervised Learning:** Discovering patterns in unlabeled data.\\n    *   **Reinforcement Learning:** Training agents through trial and error.\\n*   **Use Cases:**\\n    *   **Case Studies:** Analyzing how AI is used in various industries (healthcare, finance, manufacturing, marketing, etc.).\\n    *   **Brainstorming:**  Identifying potential AI solutions for specific problems.\\n*   **Ethical Considerations:**\\n    *   **Bias in AI:**  Understanding how data and algorithms can perpetuate biases.\\n    *   **AI Safety:** Ensuring AI systems are aligned with human values and goals.\\n    *   **Job Displacement:**  Discussing the potential impact of AI on the workforce.\\n\\n**2. Hands-On Activities & Programming:**\\n\\n*   **Coding Tutorials:**\\n    *   **Python Basics:**  (If you're a beginner) Introduction to Python syntax, data structures, and control flow.  Python is the most popular language for AI/ML.\\n    *   **Libraries:** Introduction to libraries like NumPy (numerical computation), Pandas (data manipulation), Scikit-learn (ML algorithms), TensorFlow/Keras (DL), PyTorch (DL).\\n*   **Model Building:**\\n    *   **Simple ML Models:**  Building basic models for tasks like classification (e.g., spam detection) or regression (e.g., predicting house prices) using Scikit-learn.\\n    *   **Image Classification:** Using pre-trained models (transfer learning) to classify images.\\n    *   **Text Analysis:**  Performing sentiment analysis or topic modeling on text data.\\n*   **Data Preprocessing:**\\n    *   **Cleaning Data:**  Handling missing values, outliers, and inconsistencies in datasets.\\n    *   **Feature Engineering:**  Creating new features from existing data to improve model performance.\\n*   **Using AI Platforms/Tools:**\\n    *   **Cloud-Based AI Services:**  Experimenting with platforms like Google Cloud AI Platform, Amazon SageMaker, or Microsoft Azure Machine Learning.  These platforms often provide pre-built AI services and tools.\\n    *   **No-Code/Low-Code AI:**  Exploring tools that allow you to build AI applications without writing code.\\n\\n**3. Project-Based Learning:**\\n\\n*   **Small Group Projects:**  Working in teams to apply AI techniques to solve a specific problem.  This could involve:\\n    *   **Data Collection:**  Finding and gathering relevant data.\\n    *   **Model Development:**  Building and training an AI model.\\n    *   **Evaluation:**  Assessing the performance of the model.\\n    *   **Presentation:**  Presenting the project findings to the group.\\n*   **Hackathons:**  Intensive, time-constrained events where teams compete to build the best AI solution.\\n\\n**4. Networking & Collaboration:**\\n\\n*   **Meetups:**  Opportunities to connect with other AI enthusiasts and professionals.\\n*   **Group Discussions:**  Sharing ideas, asking questions, and learning from each other.\\n*   **Mentorship:**  Connecting with experienced AI practitioners who can provide guidance and support.\\n\\n**Example Workshop Activities (Depending on Skill Level):**\\n\\n*   **Beginner:**\\n    *   Introductory lectures on AI concepts.\\n    *   Hands-on tutorial on using a simple ML algorithm (e.g., linear regression) in Scikit-learn.\\n    *   Building a basic chatbot using a no-code platform.\\n*   **Intermediate:**\\n    *   Deep dive into specific AI techniques (e.g., convolutional neural networks for image recognition).\\n    *   Building a more complex ML model using TensorFlow/Keras or PyTorch.\\n    *   Working on a small group project to solve a real-world problem.\\n*   **Advanced:**\\n    *   Research presentations on cutting-edge AI topics.\\n    *   Developing custom AI algorithms.\\n    *   Contributing to open-source AI projects.\\n\\n**To Ensure You Can Go Home After the Workshop:**\\n\\nThis is all about planning and practical considerations:\\n\\n1.  **Check the Workshop Schedule:**\\n    *   **Start and End Times:**  Absolutely crucial!  Know exactly when the workshop is scheduled to conclude.\\n    *   **Breaks:**  Factor in break times for travel prep.  (Packing up, etc.)\\n\\n2.  **Transportation:**\\n    *   **Plan Your Route:**  Whether you're driving, taking public transport, or using a ride-sharing service, plan your route in advance.  Check for traffic or delays.\\n    *   **Book Ride/Parking:** If you're using a ride-sharing service, book it *slightly* before the official end time (5-10 minutes).  If you're driving, know where you're parked and make sure you have any necessary parking permits or payments sorted.\\n    *   **Consider Peak Hour:** If you're travelling during rush hour, allow extra travel time.\\n\\n3.  **Personal Preparations:**\\n    *   **Pack Up Early (Strategically):** During the final break, discreetly pack up your belongings so you're ready to leave promptly.\\n    *   **Inform the Organizer (If Needed):** If you have a strict deadline for leaving, let the workshop organizer know *at the beginning* of the workshop.  This way, they can be aware and potentially accommodate your needs (e.g., by ensuring you're not called on to present something right at the end).\\n    *   **Charge Your Devices:**  Make sure your phone and any other devices you need for navigation or communication are fully charged.\\n    *   **Snacks/Drinks:**  Bring your own if you anticipate getting hungry or thirsty, to avoid having to search for food/drinks before heading home.\\n\\n4.  **Departure Etiquette:**\\n    *   **Thank the Organizers/Speakers:**  Express your appreciation for the workshop.\\n    *   **Say Goodbye (Briefly):**  If you've connected with anyone, say a quick goodbye.\\n    *   **Leave Promptly:**  Don't linger unnecessarily.  Be respectful of the organizers' time and the space they're using.\\n\\n**In Summary:**\\n\\nAI workshops offer a wide range of learning and hands-on experiences, from introductory lectures to building complex models. The specific activities will depend on the workshop's focus and your skill level. To ensure a smooth departure, plan your transportation, pack up early, and inform the organizers if you have any time constraints. Good luck, and have fun at the workshop!\\n\""
            ],
            "application/vnd.google.colaboratory.intrinsic+json": {
              "type": "string"
            }
          },
          "metadata": {},
          "execution_count": 8
        }
      ],
      "source": [
        "prompt=\"What can do in AI workshop and i want to go home after that\"\n",
        "response=client.models.generate_content(model=MODEL_ID,contents=prompt)\n",
        "response.text"
      ]
    },
    {
      "cell_type": "code",
      "execution_count": null,
      "metadata": {
        "colab": {
          "base_uri": "https://localhost:8080/",
          "height": 123
        },
        "id": "Vjjvi8IkQ9wH",
        "outputId": "22a6be41-198e-47c6-c7b6-96f5c5ac2270"
      },
      "outputs": [
        {
          "output_type": "execute_result",
          "data": {
            "text/plain": [
              "'Okay, to give you the best suggestions, I need a little more information about what you\\'re looking for!  Tell me a bit about:\\n\\n**1. Your Interests:**\\n\\n*   **What do you enjoy doing?** (e.g., relaxing, being active, exploring new things, learning, socializing, being alone)\\n*   **What are your hobbies?** (e.g., reading, hiking, cooking, gaming, watching movies, crafting, sports, music)\\n*   **Are you looking for something specific?** (e.g., something indoors, something outdoors, something cheap, something educational, something to do with kids)\\n\\n**2. Your Location (General):**\\n\\n*   **Where are you located?** (e.g., \"I\\'m in a big city,\" \"I\\'m in a small town,\" \"I\\'m near the beach,\" \"I\\'m in the mountains\")  Knowing your general area helps me suggest local events or attractions.\\n*   **Do you have access to transportation?** (e.g., a car, public transportation, bike)\\n\\n**3. Your Budget:**\\n\\n*   **Are you looking for free activities, or are you willing to spend some money?**  If so, what\\'s your general budget?\\n\\n**4. Who Are You With?**\\n\\n*   **Are you looking for something to do alone, with a partner, with family (and kids\\' ages), or with friends?**\\n\\n**Here are some general ideas in the meantime:**\\n\\n**Relaxing/Low-Key:**\\n\\n*   **Read a book:** Curl up at home or find a cozy spot in a park or cafe.\\n*   **Watch a movie or binge-watch a TV show:** Perfect for a lazy day.\\n*   **Take a nap:** Recharge for the week ahead.\\n*   **Cook a nice meal:** Try a new recipe or make your favorite dish.\\n*   **Have a spa day at home:** Face masks, bath bombs, the works!\\n*   **Listen to music or a podcast:** Relax and unwind.\\n*   **Meditate or practice yoga:** Center yourself and reduce stress.\\n*   **Go for a leisurely walk in nature:** Enjoy the fresh air and scenery.\\n\\n**Active/Outdoors:**\\n\\n*   **Go for a hike or bike ride:** Explore local trails.\\n*   **Visit a park or botanical garden:** Enjoy nature and get some exercise.\\n*   **Play a sport:** Basketball, tennis, frisbee, etc.\\n*   **Go for a swim:** At a pool, lake, or beach (if the weather permits).\\n*   **Have a picnic:** Pack a lunch and enjoy it outdoors.\\n*   **Visit a farmer\\'s market:** Get fresh produce and support local vendors.\\n*   **Go kayaking or canoeing:** If you have access to a body of water.\\n\\n**Social/Events:**\\n\\n*   **Go to a brunch with friends:** A classic Sunday activity.\\n*   **Visit a museum or art gallery:** Immerse yourself in culture.\\n*   **Attend a local event:** Check local listings for festivals, concerts, or markets.\\n*   **Volunteer:** Give back to your community.\\n*   **Go bowling or play mini-golf:** Fun for all ages.\\n*   **Visit a brewery or winery:** Sample local beverages (if you\\'re of age).\\n*   **Have a game night:** Invite friends over to play board games or card games.\\n\\n**Learning/Creative:**\\n\\n*   **Visit a library:** Borrow books, attend a lecture, or use the computers.\\n*   **Take a class or workshop:** Learn a new skill, like painting, pottery, or cooking.\\n*   **Write in a journal:** Reflect on your week or set goals for the future.\\n*   **Work on a creative project:** Painting, drawing, knitting, writing, etc.\\n*   **Learn a new language:** Use an app or online course.\\n*   **Visit a historical site:** Learn about local history.\\n\\nOnce I have a better idea of what you\\'re looking for, I can give you more specific and helpful suggestions. Let me know!\\n'"
            ],
            "application/vnd.google.colaboratory.intrinsic+json": {
              "type": "string"
            }
          },
          "metadata": {},
          "execution_count": 9
        }
      ],
      "source": [
        "prompt=\"What can do on sunday\"\n",
        "response=client.models.generate_content(model=MODEL_ID,contents=prompt)\n",
        "response.text"
      ]
    },
    {
      "cell_type": "code",
      "execution_count": null,
      "metadata": {
        "id": "tv7E8SleSPMP"
      },
      "outputs": [],
      "source": [
        "from IPython.display import Markdown,display\n",
        "from google import genai\n",
        "from google.genai.types import GenerateContentConfig"
      ]
    },
    {
      "cell_type": "code",
      "execution_count": null,
      "metadata": {
        "colab": {
          "base_uri": "https://localhost:8080/",
          "height": 104
        },
        "id": "HPPRhFybUMZi",
        "outputId": "62cb5781-4855-46da-d8dc-fcb43fb206d2"
      },
      "outputs": [
        {
          "output_type": "display_data",
          "data": {
            "text/plain": [
              "<IPython.core.display.Markdown object>"
            ],
            "text/markdown": "As AJIET bot, I am designed to:\n\n*   Provide information and answer questions to the best of my ability.\n*   Generate different creative text formats.\n*   Assist with various tasks.\n"
          },
          "metadata": {}
        }
      ],
      "source": [
        "generation_config=GenerateContentConfig(temperature=1.0)\n",
        "prompt=\"\"\"Your name is AJIET bot.\n",
        "Try to answer the question..\n",
        "<<instruction>>\n",
        "-answer should be a short thext with bullets\n",
        "<<question>>\n",
        "What your designed for\"\"\"\n",
        "response=client.models.generate_content(model=MODEL_ID,contents=prompt)\n",
        "display(Markdown(response.text))"
      ]
    },
    {
      "cell_type": "code",
      "execution_count": null,
      "metadata": {
        "colab": {
          "base_uri": "https://localhost:8080/",
          "height": 303
        },
        "id": "ZBipo_sAVOwo",
        "outputId": "fe6e0700-78ce-4b2d-c8f4-c4c89d558c7a"
      },
      "outputs": [
        {
          "output_type": "display_data",
          "data": {
            "text/plain": [
              "<IPython.core.display.Markdown object>"
            ],
            "text/markdown": "The sky is blue because of a phenomenon called **Rayleigh scattering**. Here's the breakdown:\n\n*   **Sunlight is White (and composed of all colors):** Sunlight appears white, but it's actually made up of all the colors of the rainbow (red, orange, yellow, green, blue, indigo, violet).\n\n*   **Entering the Atmosphere:** When sunlight enters the Earth's atmosphere, it collides with tiny air molecules (mostly nitrogen and oxygen).\n\n*   **Scattering of Light:** These collisions cause the light to scatter in different directions.\n\n*   **Rayleigh Scattering & Wavelength:** Rayleigh scattering is more effective at scattering shorter wavelengths of light (blue and violet) than longer wavelengths (red and orange). This is because the smaller the wavelength, the more effectively it is scattered by these tiny air molecules.\n\n*   **Why Not Violet?** Violet light is scattered even more than blue light. However, our eyes are more sensitive to blue light, and the sun emits slightly less violet light than blue light. Also, some of the violet light is absorbed in the upper atmosphere.\n\n*   **The Result: A Blue Sky:** As a result, blue light is scattered all over the sky, making it appear blue to our eyes.\n\n**In simpler terms:**\n\nImagine throwing a bunch of small balls (light waves) at a field full of tiny obstacles (air molecules). The smaller balls (blue light) bounce off the obstacles more easily and in all directions, spreading the blue color everywhere. The bigger balls (red light) are less affected and mostly keep going straight.\n"
          },
          "metadata": {}
        }
      ],
      "source": [
        "prompt=\"why is the sky blue\"\n",
        "response=client.models.generate_content(model=MODEL_ID,contents=prompt)\n",
        "display(Markdown(response.text))"
      ]
    },
    {
      "cell_type": "code",
      "execution_count": null,
      "metadata": {
        "colab": {
          "base_uri": "https://localhost:8080/",
          "height": 261
        },
        "id": "bxjNHgwldO3Z",
        "outputId": "abcd0a9d-8895-4d90-81bb-f5b870d910c6"
      },
      "outputs": [
        {
          "output_type": "display_data",
          "data": {
            "text/plain": [
              "<IPython.core.display.Markdown object>"
            ],
            "text/markdown": "Okay! I can help you with planning your weekend in Mangalore. To give you the best recommendations, I need a little more information:\n\n*   **What are your interests?** (e.g., beaches, temples, food, history, nature, adventure)\n*   **What's your budget like?** (e.g., budget-friendly, mid-range, luxury)\n*   **Who are you traveling with?** (e.g., solo, couple, family with kids, friends)\n*   **When are you planning to travel?** (This helps in considering weather conditions and potential events.)\n*   **How are you planning to travel around Mangalore?** (e.g., rental car, public transport, taxis/auto-rickshaws)\n\nIn the meantime, here are a few popular attractions and activities in Mangalore to get you started:\n\n*   **Beaches:** Panambur Beach, Tannirbhavi Beach, Someshwar Beach\n*   **Temples:** Mangaladevi Temple, Kadri Manjunath Temple\n*   **Other Attractions:** St. Aloysius Chapel, Pilikula Nisargadhama, Central Market\n*   **Food:** Try the local seafood, especially the fish curry rice, and don't miss out on the delicious ice cream at Pabba's.\n\nOnce I have a better understanding of your preferences, I can create a more personalized itinerary for your weekend in Mangalore.\n"
          },
          "metadata": {}
        }
      ],
      "source": [
        "generation_config=GenerateContentConfig(temperature=1.0)\n",
        "chat=client.chats.create(\n",
        "    model=MODEL_ID,\n",
        "    config=GenerateContentConfig(\n",
        "        system_instruction=[\n",
        "            \"Hell! You are an AI Chatbot for atravel website\",\n",
        "            \"Your mission is to provide helpful queries for travel\",\n",
        "            \"if you cant answer the question say sorry\"\n",
        "        ]\n",
        "    ),\n",
        "\n",
        ")\n",
        "prompt=\"i want plan my weekend in manglore\"\n",
        "response=chat.send_message(prompt)\n",
        "display(Markdown(response.text))"
      ]
    },
    {
      "cell_type": "markdown",
      "metadata": {
        "id": "QE6jqpE03jot"
      },
      "source": [
        "zero shot prompting"
      ]
    },
    {
      "cell_type": "code",
      "execution_count": null,
      "metadata": {
        "colab": {
          "base_uri": "https://localhost:8080/",
          "height": 46
        },
        "id": "FBHi5pYjhyvX",
        "outputId": "3d6587ec-22bd-4a62-d9af-1c7fdef844e7"
      },
      "outputs": [
        {
          "output_type": "display_data",
          "data": {
            "text/plain": [
              "<IPython.core.display.Markdown object>"
            ],
            "text/markdown": "Sentiment: Negative\n"
          },
          "metadata": {}
        }
      ],
      "source": [
        "prompt=\"\"\"Decide whether a Tweets sentiment is positive,neural or negative.\n",
        "Tweet:Manglore roads are very bad\n",
        "Sentiment:\n",
        "\"\"\"\n",
        "response=chat.send_message(prompt)\n",
        "display(Markdown(response.text))"
      ]
    },
    {
      "cell_type": "markdown",
      "metadata": {
        "id": "vFSCKfubiSJt"
      },
      "source": [
        "one shot prompting"
      ]
    },
    {
      "cell_type": "code",
      "execution_count": null,
      "metadata": {
        "colab": {
          "base_uri": "https://localhost:8080/",
          "height": 70
        },
        "id": "fbfpUXwFiVcs",
        "outputId": "d8a17b8d-7b32-4661-ffdf-6874003e3547"
      },
      "outputs": [
        {
          "output_type": "display_data",
          "data": {
            "text/plain": [
              "<IPython.core.display.Markdown object>"
            ],
            "text/markdown": "Tweet: I loved the new Youtube video you made!\nSentiment: Positive\n\nTweet: That was awful. super boring\nSentiment: Negative\n"
          },
          "metadata": {}
        }
      ],
      "source": [
        "prompt=\"\"\"Decide whether a Tweets sentiment is positive,neural or negative.\n",
        "Tweet:I loved the new Youtube video you made!\n",
        "Sentiment:\n",
        "Tweet:That was awful.super boring\n",
        "Sentiment:\n",
        "\"\"\"\n",
        "response=chat.send_message(prompt)\n",
        "display(Markdown(response.text))"
      ]
    },
    {
      "cell_type": "markdown",
      "metadata": {
        "id": "amjSK8GOitwi"
      },
      "source": [
        "few shot prompting"
      ]
    },
    {
      "cell_type": "code",
      "execution_count": null,
      "metadata": {
        "colab": {
          "base_uri": "https://localhost:8080/",
          "height": 93
        },
        "id": "edLycwFDiwDi",
        "outputId": "b61ea8f9-b23d-45ed-93cc-3cd33a701580"
      },
      "outputs": [
        {
          "output_type": "display_data",
          "data": {
            "text/plain": [
              "<IPython.core.display.Markdown object>"
            ],
            "text/markdown": "Tweet: I loved the new Youtube video you made!\nSentiment: Positive\n\nTweet: That was awful. super boring\nSentiment: Negative\n\nTweet: Something surprised me about this video - it was actually original and it was copied from anything.\nSentiment: Neutral\n"
          },
          "metadata": {}
        }
      ],
      "source": [
        "prompt=\"\"\"Decide whether a Tweets sentiment is positive,neural or negative.\n",
        "Tweet:I loved the new Youtube video you made!\n",
        "Sentiment:\n",
        "Tweet:That was awful.super boring\n",
        "Sentiment:\n",
        "Tweet:Something surprised me about this video -it was actually original and it was copied from anything.\n",
        "Sentiment:\n",
        "\"\"\"\n",
        "response=chat.send_message(prompt)\n",
        "display(Markdown(response.text))"
      ]
    },
    {
      "cell_type": "code",
      "execution_count": null,
      "metadata": {
        "id": "qorjoKC5k-mC"
      },
      "outputs": [],
      "source": [
        "from IPython.display import HTML,Image,Markdown,display\n",
        "from google import genai\n",
        "from google.genai.types import(\n",
        "    FunctionDeclaration,\n",
        "    GenerateContentConfig,\n",
        "    GoogleSearch,\n",
        "    HarmBlockThreshold,\n",
        "    HarmCategory,\n",
        "    Part,\n",
        "    SafetySetting,\n",
        "    ThinkingConfig,\n",
        "    Tool,\n",
        "    ToolCodeExecution\n",
        ")"
      ]
    },
    {
      "cell_type": "code",
      "execution_count": null,
      "metadata": {
        "colab": {
          "base_uri": "https://localhost:8080/",
          "height": 46
        },
        "id": "73yC2fHrn48H",
        "outputId": "86efb01b-5840-40b7-8d63-96fa72c7d873"
      },
      "outputs": [
        {
          "output_type": "display_data",
          "data": {
            "text/plain": [
              "<IPython.core.display.Markdown object>"
            ],
            "text/markdown": "Okay, I understand. I'm in the lab, ready to help. What's your question? Don't worry about explaining it too much - just tell me what you need to know. I'm ready!\n"
          },
          "metadata": {}
        }
      ],
      "source": [
        "response=client.models.generate_content(\n",
        "    model=MODEL_ID,\n",
        "    contents=\"this is my first question,remember that your in lab\",\n",
        "    config=GenerateContentConfig(\n",
        "        thinkingConfig=ThinkingConfig(\n",
        "            thinking_budget=0,)\n",
        "    ),\n",
        ")\n",
        "display(Markdown(response.text))"
      ]
    },
    {
      "cell_type": "code",
      "execution_count": null,
      "metadata": {
        "id": "IHSryzOin04L"
      },
      "outputs": [],
      "source": [
        "MODEL_ID=\"gemini-2.5-flash\""
      ]
    },
    {
      "cell_type": "code",
      "execution_count": null,
      "metadata": {
        "id": "BS5u0g-A3gnr"
      },
      "outputs": [],
      "source": [
        "chat=client.chats.create(\n",
        "    model=MODEL_ID,\n",
        "     config=GenerateContentConfig(\n",
        "        thinkingConfig=ThinkingConfig\n",
        "    ),\n",
        ")"
      ]
    },
    {
      "cell_type": "code",
      "execution_count": null,
      "metadata": {
        "colab": {
          "base_uri": "https://localhost:8080/"
        },
        "id": "s3irtYGu6Pfm",
        "outputId": "f44a03f6-47dd-478d-fe70-305ffd0c67bc"
      },
      "outputs": [
        {
          "output_type": "execute_result",
          "data": {
            "text/plain": [
              "<google.genai.chats.Chat at 0x7847bffe2b10>"
            ]
          },
          "metadata": {},
          "execution_count": 21
        }
      ],
      "source": [
        "chat"
      ]
    },
    {
      "cell_type": "code",
      "execution_count": null,
      "metadata": {
        "colab": {
          "base_uri": "https://localhost:8080/",
          "height": 46
        },
        "id": "YPhGKZwF6K6Y",
        "outputId": "41e0a75d-4fe8-4dc1-a201-287dea246901"
      },
      "outputs": [
        {
          "output_type": "display_data",
          "data": {
            "text/plain": [
              "<IPython.core.display.Markdown object>"
            ],
            "text/markdown": "Okay, I understand. I will remember that you said \"good afternoon\" first."
          },
          "metadata": {}
        }
      ],
      "source": [
        "response=chat.send_message(\"remember what i say,first i am telling good      afternoon\")\n",
        "display(Markdown(response.text))"
      ]
    },
    {
      "cell_type": "code",
      "execution_count": null,
      "metadata": {
        "colab": {
          "base_uri": "https://localhost:8080/",
          "height": 46
        },
        "id": "w5-MkIMs6xpi",
        "outputId": "e68909a7-0b13-4575-a442-b3170b0ab977"
      },
      "outputs": [
        {
          "output_type": "display_data",
          "data": {
            "text/plain": [
              "<IPython.core.display.Markdown object>"
            ],
            "text/markdown": "You said, \"first I am telling good afternoon.\""
          },
          "metadata": {}
        }
      ],
      "source": [
        "response=chat.send_message(\"what did i say first\")\n",
        "display(Markdown(response.text))"
      ]
    },
    {
      "cell_type": "code",
      "execution_count": null,
      "metadata": {
        "colab": {
          "base_uri": "https://localhost:8080/",
          "height": 46
        },
        "id": "CNcnjLck-x_m",
        "outputId": "d53786a6-68dc-45d9-fe8b-a7677f12f914"
      },
      "outputs": [
        {
          "output_type": "display_data",
          "data": {
            "text/plain": [
              "<IPython.core.display.Markdown object>"
            ],
            "text/markdown": "The HOD (Head of Department) of Computer Science & Engineering (CSE) at Alva's Institute of Engineering and Technology (AJIET) is **Dr. S. C. Suresh Kumar**."
          },
          "metadata": {}
        }
      ],
      "source": [
        "response=chat.send_message(\"who is the hod of the cse at AJIET\")\n",
        "display(Markdown(response.text))"
      ]
    },
    {
      "cell_type": "code",
      "execution_count": null,
      "metadata": {
        "colab": {
          "base_uri": "https://localhost:8080/",
          "height": 46
        },
        "id": "Gb1rdERe6__j",
        "outputId": "3de39e3e-f9bb-453d-8602-e0e661266c49"
      },
      "outputs": [
        {
          "output_type": "display_data",
          "data": {
            "text/plain": [
              "<IPython.core.display.Markdown object>"
            ],
            "text/markdown": "Okay, Nayana. I will remember that in the afternoon, you covered the memory part of the Gemini chat option. Thank you for letting me know."
          },
          "metadata": {}
        }
      ],
      "source": [
        "response=chat.send_message(\"in the afternoon i did coverthe memory part of gemini chat option,i am nayana\")\n",
        "display(Markdown(response.text))"
      ]
    },
    {
      "cell_type": "code",
      "execution_count": null,
      "metadata": {
        "colab": {
          "base_uri": "https://localhost:8080/",
          "height": 138
        },
        "id": "29TRlyBy7RZA",
        "outputId": "29548e98-e02d-4d5e-9371-1f494f41c965"
      },
      "outputs": [
        {
          "output_type": "display_data",
          "data": {
            "text/plain": [
              "<IPython.core.display.Markdown object>"
            ],
            "text/markdown": "We are having a conversation where:\n\n1.  You (Nayana) are providing me with information and testing my memory (e.g., \"first I am telling good afternoon,\" \"in the afternoon i did cover the memory part of gemini chat option,i am nayana\").\n2.  I am remembering the details you tell me and confirming what you've said.\n3.  You also asked me a specific factual question (\"who is the hod of the cse at AJIET\"), which I answered."
          },
          "metadata": {}
        }
      ],
      "source": [
        "response=chat.send_message(\"whats happening here\")\n",
        "display(Markdown(response.text))"
      ]
    },
    {
      "cell_type": "code",
      "execution_count": null,
      "metadata": {
        "colab": {
          "base_uri": "https://localhost:8080/"
        },
        "id": "CGbRyADW7w8_",
        "outputId": "c3a7be54-095c-4b3e-a2d9-82a8573687f3"
      },
      "outputs": [
        {
          "output_type": "execute_result",
          "data": {
            "text/plain": [
              "[UserContent(\n",
              "   parts=[\n",
              "     Part(\n",
              "       text='remember what i say,first i am telling good      afternoon'\n",
              "     ),\n",
              "   ],\n",
              "   role='user'\n",
              " ),\n",
              " Content(\n",
              "   parts=[\n",
              "     Part(\n",
              "       text='Okay, I understand. I will remember that you said \"good afternoon\" first.'\n",
              "     ),\n",
              "   ],\n",
              "   role='model'\n",
              " ),\n",
              " UserContent(\n",
              "   parts=[\n",
              "     Part(\n",
              "       text='what did i say first'\n",
              "     ),\n",
              "   ],\n",
              "   role='user'\n",
              " ),\n",
              " Content(\n",
              "   parts=[\n",
              "     Part(\n",
              "       text='You said, \"first I am telling good afternoon.\"'\n",
              "     ),\n",
              "   ],\n",
              "   role='model'\n",
              " ),\n",
              " UserContent(\n",
              "   parts=[\n",
              "     Part(\n",
              "       text='who is the hod of the cse at AJIET'\n",
              "     ),\n",
              "   ],\n",
              "   role='user'\n",
              " ),\n",
              " Content(\n",
              "   parts=[\n",
              "     Part(\n",
              "       text=\"The HOD (Head of Department) of Computer Science & Engineering (CSE) at Alva's Institute of Engineering and Technology (AJIET) is **Dr. S. C. Suresh Kumar**.\"\n",
              "     ),\n",
              "   ],\n",
              "   role='model'\n",
              " ),\n",
              " UserContent(\n",
              "   parts=[\n",
              "     Part(\n",
              "       text='in the afternoon i did coverthe memory part of gemini chat option,i am nayana'\n",
              "     ),\n",
              "   ],\n",
              "   role='user'\n",
              " ),\n",
              " Content(\n",
              "   parts=[\n",
              "     Part(\n",
              "       text='Okay, Nayana. I will remember that in the afternoon, you covered the memory part of the Gemini chat option. Thank you for letting me know.'\n",
              "     ),\n",
              "   ],\n",
              "   role='model'\n",
              " ),\n",
              " UserContent(\n",
              "   parts=[\n",
              "     Part(\n",
              "       text='whats happening here'\n",
              "     ),\n",
              "   ],\n",
              "   role='user'\n",
              " ),\n",
              " Content(\n",
              "   parts=[\n",
              "     Part(\n",
              "       text=\"\"\"We are having a conversation where:\n",
              " \n",
              " 1.  You (Nayana) are providing me with information and testing my memory (e.g., \"first I am telling good afternoon,\" \"in the afternoon i did cover the memory part of gemini chat option,i am nayana\").\n",
              " 2.  I am remembering the details you tell me and confirming what you've said.\n",
              " 3.  You also asked me a specific factual question (\"who is the hod of the cse at AJIET\"), which I answered.\"\"\"\n",
              "     ),\n",
              "   ],\n",
              "   role='model'\n",
              " )]"
            ]
          },
          "metadata": {},
          "execution_count": 27
        }
      ],
      "source": [
        "chat.get_history(0)"
      ]
    },
    {
      "cell_type": "code",
      "execution_count": null,
      "metadata": {
        "colab": {
          "base_uri": "https://localhost:8080/",
          "height": 64
        },
        "id": "Q8EeO7nh79Rl",
        "outputId": "4d2086ae-96dd-4c60-bbf4-f2b121a2f82e"
      },
      "outputs": [
        {
          "output_type": "display_data",
          "data": {
            "text/plain": [
              "<IPython.core.display.Markdown object>"
            ],
            "text/markdown": "Dr. Antony P.J. is the Vice Principal, Professor, and HOD of the Computer Science and Engineering Department at A.J. Institute of Engineering & Technology (AJIET). The Computer Science & Engineering (AI & ML) department at AJIET has Dr. Chanchal Antony as its Associate Professor and HOD."
          },
          "metadata": {}
        }
      ],
      "source": [
        "google_search_tool=Tool(google_search=GoogleSearch())\n",
        "response=client.models.generate_content(\n",
        "    model=MODEL_ID,\n",
        "    contents=\"Who is the HOD of the CSE at AJIET\",\n",
        "    config=GenerateContentConfig(tools=[google_search_tool])\n",
        "    )\n",
        "display(Markdown(response.text))"
      ]
    },
    {
      "cell_type": "code",
      "execution_count": null,
      "metadata": {
        "colab": {
          "base_uri": "https://localhost:8080/",
          "height": 1000
        },
        "id": "hTTy_s9b_Y35",
        "outputId": "a9eb4657-0577-49fb-efdf-37c567329dc7"
      },
      "outputs": [
        {
          "output_type": "display_data",
          "data": {
            "text/plain": [
              "<IPython.core.display.Markdown object>"
            ],
            "text/markdown": "As of August 6, 2025, the State Bank of India (SBI) stock price on the NSE is Rs 805.15. It is also listed on the BSE at the same price. The stock has seen a slight increase of 0.41% in the past 24 hours.\n\nIt's important to note that the price can fluctuate throughout the trading day. For the most up-to-the-minute information, you would need to check a live stock trading platform.The SBI stock price today, as of August 6, 2025, is Rs 805.15 on the NSE (National Stock Exchange) and BSE (Bombay Stock Exchange). The price has seen a slight increase of 0.41% in the past 24 hours."
          },
          "metadata": {}
        },
        {
          "output_type": "stream",
          "name": "stdout",
          "text": [
            "grounding_chunks=[GroundingChunk(\n",
            "  web=GroundingChunkWeb(\n",
            "    title='angelone.in',\n",
            "    uri='https://vertexaisearch.cloud.google.com/grounding-api-redirect/AUZIYQHsrXVySCcl6xkf3yC_d7BWdYkA-HL6rpfbwDhSu7oLwG8l3C5I8LOW71PSUuXhq83dQGcEiU9bw3s7U0pMCXWhPvlcs8HCdk9TUtqIdzFrfNK3LYPRYjlKmP7tU6NII3imeP4eRMiwRR0JXjU='\n",
            "  )\n",
            "), GroundingChunk(\n",
            "  web=GroundingChunkWeb(\n",
            "    title='tradingview.com',\n",
            "    uri='https://vertexaisearch.cloud.google.com/grounding-api-redirect/AUZIYQFYf1wpNs2CymTLk4FOTR1KH6kfIcoJUKxpTGZsnAdpP7LaofKJz7WkyQd8IzyoFfK_FSYSrDVR_d76vyg8-RaO--Nvx7YAiWWYIeSiYsGDxYd6lDPsv3YsHNFdptaaPlSX0xz8JtoZ'\n",
            "  )\n",
            ")] grounding_supports=[GroundingSupport(\n",
            "  grounding_chunk_indices=[\n",
            "    0,\n",
            "  ],\n",
            "  segment=Segment(\n",
            "    end_index=87,\n",
            "    text='As of August 6, 2025, the State Bank of India (SBI) stock price on the NSE is Rs 805.15'\n",
            "  )\n",
            "), GroundingSupport(\n",
            "  grounding_chunk_indices=[\n",
            "    0,\n",
            "  ],\n",
            "  segment=Segment(\n",
            "    end_index=135,\n",
            "    start_index=89,\n",
            "    text='It is also listed on the BSE at the same price'\n",
            "  )\n",
            "), GroundingSupport(\n",
            "  grounding_chunk_indices=[\n",
            "    1,\n",
            "  ],\n",
            "  segment=Segment(\n",
            "    end_index=203,\n",
            "    start_index=137,\n",
            "    text='The stock has seen a slight increase of 0.41% in the past 24 hours'\n",
            "  )\n",
            "), GroundingSupport(\n",
            "  grounding_chunk_indices=[\n",
            "    0,\n",
            "  ],\n",
            "  segment=Segment(\n",
            "    end_index=514,\n",
            "    start_index=383,\n",
            "    text='The SBI stock price today, as of August 6, 2025, is Rs 805.15 on the NSE (National Stock Exchange) and BSE (Bombay Stock Exchange).'\n",
            "  )\n",
            "), GroundingSupport(\n",
            "  grounding_chunk_indices=[\n",
            "    1,\n",
            "  ],\n",
            "  segment=Segment(\n",
            "    end_index=582,\n",
            "    start_index=515,\n",
            "    text='The price has seen a slight increase of 0.41% in the past 24 hours.'\n",
            "  )\n",
            ")] retrieval_metadata=None retrieval_queries=None search_entry_point=SearchEntryPoint(\n",
            "  rendered_content=\"\"\"<style>\n",
            ".container {\n",
            "  align-items: center;\n",
            "  border-radius: 8px;\n",
            "  display: flex;\n",
            "  font-family: Google Sans, Roboto, sans-serif;\n",
            "  font-size: 14px;\n",
            "  line-height: 20px;\n",
            "  padding: 8px 12px;\n",
            "}\n",
            ".chip {\n",
            "  display: inline-block;\n",
            "  border: solid 1px;\n",
            "  border-radius: 16px;\n",
            "  min-width: 14px;\n",
            "  padding: 5px 16px;\n",
            "  text-align: center;\n",
            "  user-select: none;\n",
            "  margin: 0 8px;\n",
            "  -webkit-tap-highlight-color: transparent;\n",
            "}\n",
            ".carousel {\n",
            "  overflow: auto;\n",
            "  scrollbar-width: none;\n",
            "  white-space: nowrap;\n",
            "  margin-right: -12px;\n",
            "}\n",
            ".headline {\n",
            "  display: flex;\n",
            "  margin-right: 4px;\n",
            "}\n",
            ".gradient-container {\n",
            "  position: relative;\n",
            "}\n",
            ".gradient {\n",
            "  position: absolute;\n",
            "  transform: translate(3px, -9px);\n",
            "  height: 36px;\n",
            "  width: 9px;\n",
            "}\n",
            "@media (prefers-color-scheme: light) {\n",
            "  .container {\n",
            "    background-color: #fafafa;\n",
            "    box-shadow: 0 0 0 1px #0000000f;\n",
            "  }\n",
            "  .headline-label {\n",
            "    color: #1f1f1f;\n",
            "  }\n",
            "  .chip {\n",
            "    background-color: #ffffff;\n",
            "    border-color: #d2d2d2;\n",
            "    color: #5e5e5e;\n",
            "    text-decoration: none;\n",
            "  }\n",
            "  .chip:hover {\n",
            "    background-color: #f2f2f2;\n",
            "  }\n",
            "  .chip:focus {\n",
            "    background-color: #f2f2f2;\n",
            "  }\n",
            "  .chip:active {\n",
            "    background-color: #d8d8d8;\n",
            "    border-color: #b6b6b6;\n",
            "  }\n",
            "  .logo-dark {\n",
            "    display: none;\n",
            "  }\n",
            "  .gradient {\n",
            "    background: linear-gradient(90deg, #fafafa 15%, #fafafa00 100%);\n",
            "  }\n",
            "}\n",
            "@media (prefers-color-scheme: dark) {\n",
            "  .container {\n",
            "    background-color: #1f1f1f;\n",
            "    box-shadow: 0 0 0 1px #ffffff26;\n",
            "  }\n",
            "  .headline-label {\n",
            "    color: #fff;\n",
            "  }\n",
            "  .chip {\n",
            "    background-color: #2c2c2c;\n",
            "    border-color: #3c4043;\n",
            "    color: #fff;\n",
            "    text-decoration: none;\n",
            "  }\n",
            "  .chip:hover {\n",
            "    background-color: #353536;\n",
            "  }\n",
            "  .chip:focus {\n",
            "    background-color: #353536;\n",
            "  }\n",
            "  .chip:active {\n",
            "    background-color: #464849;\n",
            "    border-color: #53575b;\n",
            "  }\n",
            "  .logo-light {\n",
            "    display: none;\n",
            "  }\n",
            "  .gradient {\n",
            "    background: linear-gradient(90deg, #1f1f1f 15%, #1f1f1f00 100%);\n",
            "  }\n",
            "}\n",
            "</style>\n",
            "<div class=\"container\">\n",
            "  <div class=\"headline\">\n",
            "    <svg class=\"logo-light\" width=\"18\" height=\"18\" viewBox=\"9 9 35 35\" fill=\"none\" xmlns=\"http://www.w3.org/2000/svg\">\n",
            "      <path fill-rule=\"evenodd\" clip-rule=\"evenodd\" d=\"M42.8622 27.0064C42.8622 25.7839 42.7525 24.6084 42.5487 23.4799H26.3109V30.1568H35.5897C35.1821 32.3041 33.9596 34.1222 32.1258 35.3448V39.6864H37.7213C40.9814 36.677 42.8622 32.2571 42.8622 27.0064V27.0064Z\" fill=\"#4285F4\"/>\n",
            "      <path fill-rule=\"evenodd\" clip-rule=\"evenodd\" d=\"M26.3109 43.8555C30.9659 43.8555 34.8687 42.3195 37.7213 39.6863L32.1258 35.3447C30.5898 36.3792 28.6306 37.0061 26.3109 37.0061C21.8282 37.0061 18.0195 33.9811 16.6559 29.906H10.9194V34.3573C13.7563 39.9841 19.5712 43.8555 26.3109 43.8555V43.8555Z\" fill=\"#34A853\"/>\n",
            "      <path fill-rule=\"evenodd\" clip-rule=\"evenodd\" d=\"M16.6559 29.8904C16.3111 28.8559 16.1074 27.7588 16.1074 26.6146C16.1074 25.4704 16.3111 24.3733 16.6559 23.3388V18.8875H10.9194C9.74388 21.2072 9.06992 23.8247 9.06992 26.6146C9.06992 29.4045 9.74388 32.022 10.9194 34.3417L15.3864 30.8621L16.6559 29.8904V29.8904Z\" fill=\"#FBBC05\"/>\n",
            "      <path fill-rule=\"evenodd\" clip-rule=\"evenodd\" d=\"M26.3109 16.2386C28.85 16.2386 31.107 17.1164 32.9095 18.8091L37.8466 13.8719C34.853 11.082 30.9659 9.3736 26.3109 9.3736C19.5712 9.3736 13.7563 13.245 10.9194 18.8875L16.6559 23.3388C18.0195 19.2636 21.8282 16.2386 26.3109 16.2386V16.2386Z\" fill=\"#EA4335\"/>\n",
            "    </svg>\n",
            "    <svg class=\"logo-dark\" width=\"18\" height=\"18\" viewBox=\"0 0 48 48\" xmlns=\"http://www.w3.org/2000/svg\">\n",
            "      <circle cx=\"24\" cy=\"23\" fill=\"#FFF\" r=\"22\"/>\n",
            "      <path d=\"M33.76 34.26c2.75-2.56 4.49-6.37 4.49-11.26 0-.89-.08-1.84-.29-3H24.01v5.99h8.03c-.4 2.02-1.5 3.56-3.07 4.56v.75l3.91 2.97h.88z\" fill=\"#4285F4\"/>\n",
            "      <path d=\"M15.58 25.77A8.845 8.845 0 0 0 24 31.86c1.92 0 3.62-.46 4.97-1.31l4.79 3.71C31.14 36.7 27.65 38 24 38c-5.93 0-11.01-3.4-13.45-8.36l.17-1.01 4.06-2.85h.8z\" fill=\"#34A853\"/>\n",
            "      <path d=\"M15.59 20.21a8.864 8.864 0 0 0 0 5.58l-5.03 3.86c-.98-2-1.53-4.25-1.53-6.64 0-2.39.55-4.64 1.53-6.64l1-.22 3.81 2.98.22 1.08z\" fill=\"#FBBC05\"/>\n",
            "      <path d=\"M24 14.14c2.11 0 4.02.75 5.52 1.98l4.36-4.36C31.22 9.43 27.81 8 24 8c-5.93 0-11.01 3.4-13.45 8.36l5.03 3.85A8.86 8.86 0 0 1 24 14.14z\" fill=\"#EA4335\"/>\n",
            "    </svg>\n",
            "    <div class=\"gradient-container\"><div class=\"gradient\"></div></div>\n",
            "  </div>\n",
            "  <div class=\"carousel\">\n",
            "    <a class=\"chip\" href=\"https://vertexaisearch.cloud.google.com/grounding-api-redirect/AUZIYQEmByh9CTyvvyHb_EU8doR3NJZefiz7Ku2LD2yw6DGwFtilSs58CUuFJgPmqkiKqlp6atQ8Oqeq-E1pjOGEJD0fYvyYfG3FRYueJAA8qRFbs2a7iKKbKDSPPdiFujB-ai29ZeNXDfs-hLaKLfo1ZPt3L2BuHyq9SzW1QDX8lAlVV3TvmOMt1nY33lbVDE118jlKBPNrAB7f\">SBI stock price today</a>\n",
            "  </div>\n",
            "</div>\n",
            "\"\"\"\n",
            ") web_search_queries=['SBI stock price today']\n"
          ]
        },
        {
          "output_type": "execute_result",
          "data": {
            "text/plain": [
              "<IPython.core.display.HTML object>"
            ],
            "text/html": [
              "<style>\n",
              ".container {\n",
              "  align-items: center;\n",
              "  border-radius: 8px;\n",
              "  display: flex;\n",
              "  font-family: Google Sans, Roboto, sans-serif;\n",
              "  font-size: 14px;\n",
              "  line-height: 20px;\n",
              "  padding: 8px 12px;\n",
              "}\n",
              ".chip {\n",
              "  display: inline-block;\n",
              "  border: solid 1px;\n",
              "  border-radius: 16px;\n",
              "  min-width: 14px;\n",
              "  padding: 5px 16px;\n",
              "  text-align: center;\n",
              "  user-select: none;\n",
              "  margin: 0 8px;\n",
              "  -webkit-tap-highlight-color: transparent;\n",
              "}\n",
              ".carousel {\n",
              "  overflow: auto;\n",
              "  scrollbar-width: none;\n",
              "  white-space: nowrap;\n",
              "  margin-right: -12px;\n",
              "}\n",
              ".headline {\n",
              "  display: flex;\n",
              "  margin-right: 4px;\n",
              "}\n",
              ".gradient-container {\n",
              "  position: relative;\n",
              "}\n",
              ".gradient {\n",
              "  position: absolute;\n",
              "  transform: translate(3px, -9px);\n",
              "  height: 36px;\n",
              "  width: 9px;\n",
              "}\n",
              "@media (prefers-color-scheme: light) {\n",
              "  .container {\n",
              "    background-color: #fafafa;\n",
              "    box-shadow: 0 0 0 1px #0000000f;\n",
              "  }\n",
              "  .headline-label {\n",
              "    color: #1f1f1f;\n",
              "  }\n",
              "  .chip {\n",
              "    background-color: #ffffff;\n",
              "    border-color: #d2d2d2;\n",
              "    color: #5e5e5e;\n",
              "    text-decoration: none;\n",
              "  }\n",
              "  .chip:hover {\n",
              "    background-color: #f2f2f2;\n",
              "  }\n",
              "  .chip:focus {\n",
              "    background-color: #f2f2f2;\n",
              "  }\n",
              "  .chip:active {\n",
              "    background-color: #d8d8d8;\n",
              "    border-color: #b6b6b6;\n",
              "  }\n",
              "  .logo-dark {\n",
              "    display: none;\n",
              "  }\n",
              "  .gradient {\n",
              "    background: linear-gradient(90deg, #fafafa 15%, #fafafa00 100%);\n",
              "  }\n",
              "}\n",
              "@media (prefers-color-scheme: dark) {\n",
              "  .container {\n",
              "    background-color: #1f1f1f;\n",
              "    box-shadow: 0 0 0 1px #ffffff26;\n",
              "  }\n",
              "  .headline-label {\n",
              "    color: #fff;\n",
              "  }\n",
              "  .chip {\n",
              "    background-color: #2c2c2c;\n",
              "    border-color: #3c4043;\n",
              "    color: #fff;\n",
              "    text-decoration: none;\n",
              "  }\n",
              "  .chip:hover {\n",
              "    background-color: #353536;\n",
              "  }\n",
              "  .chip:focus {\n",
              "    background-color: #353536;\n",
              "  }\n",
              "  .chip:active {\n",
              "    background-color: #464849;\n",
              "    border-color: #53575b;\n",
              "  }\n",
              "  .logo-light {\n",
              "    display: none;\n",
              "  }\n",
              "  .gradient {\n",
              "    background: linear-gradient(90deg, #1f1f1f 15%, #1f1f1f00 100%);\n",
              "  }\n",
              "}\n",
              "</style>\n",
              "<div class=\"container\">\n",
              "  <div class=\"headline\">\n",
              "    <svg class=\"logo-light\" width=\"18\" height=\"18\" viewBox=\"9 9 35 35\" fill=\"none\" xmlns=\"http://www.w3.org/2000/svg\">\n",
              "      <path fill-rule=\"evenodd\" clip-rule=\"evenodd\" d=\"M42.8622 27.0064C42.8622 25.7839 42.7525 24.6084 42.5487 23.4799H26.3109V30.1568H35.5897C35.1821 32.3041 33.9596 34.1222 32.1258 35.3448V39.6864H37.7213C40.9814 36.677 42.8622 32.2571 42.8622 27.0064V27.0064Z\" fill=\"#4285F4\"/>\n",
              "      <path fill-rule=\"evenodd\" clip-rule=\"evenodd\" d=\"M26.3109 43.8555C30.9659 43.8555 34.8687 42.3195 37.7213 39.6863L32.1258 35.3447C30.5898 36.3792 28.6306 37.0061 26.3109 37.0061C21.8282 37.0061 18.0195 33.9811 16.6559 29.906H10.9194V34.3573C13.7563 39.9841 19.5712 43.8555 26.3109 43.8555V43.8555Z\" fill=\"#34A853\"/>\n",
              "      <path fill-rule=\"evenodd\" clip-rule=\"evenodd\" d=\"M16.6559 29.8904C16.3111 28.8559 16.1074 27.7588 16.1074 26.6146C16.1074 25.4704 16.3111 24.3733 16.6559 23.3388V18.8875H10.9194C9.74388 21.2072 9.06992 23.8247 9.06992 26.6146C9.06992 29.4045 9.74388 32.022 10.9194 34.3417L15.3864 30.8621L16.6559 29.8904V29.8904Z\" fill=\"#FBBC05\"/>\n",
              "      <path fill-rule=\"evenodd\" clip-rule=\"evenodd\" d=\"M26.3109 16.2386C28.85 16.2386 31.107 17.1164 32.9095 18.8091L37.8466 13.8719C34.853 11.082 30.9659 9.3736 26.3109 9.3736C19.5712 9.3736 13.7563 13.245 10.9194 18.8875L16.6559 23.3388C18.0195 19.2636 21.8282 16.2386 26.3109 16.2386V16.2386Z\" fill=\"#EA4335\"/>\n",
              "    </svg>\n",
              "    <svg class=\"logo-dark\" width=\"18\" height=\"18\" viewBox=\"0 0 48 48\" xmlns=\"http://www.w3.org/2000/svg\">\n",
              "      <circle cx=\"24\" cy=\"23\" fill=\"#FFF\" r=\"22\"/>\n",
              "      <path d=\"M33.76 34.26c2.75-2.56 4.49-6.37 4.49-11.26 0-.89-.08-1.84-.29-3H24.01v5.99h8.03c-.4 2.02-1.5 3.56-3.07 4.56v.75l3.91 2.97h.88z\" fill=\"#4285F4\"/>\n",
              "      <path d=\"M15.58 25.77A8.845 8.845 0 0 0 24 31.86c1.92 0 3.62-.46 4.97-1.31l4.79 3.71C31.14 36.7 27.65 38 24 38c-5.93 0-11.01-3.4-13.45-8.36l.17-1.01 4.06-2.85h.8z\" fill=\"#34A853\"/>\n",
              "      <path d=\"M15.59 20.21a8.864 8.864 0 0 0 0 5.58l-5.03 3.86c-.98-2-1.53-4.25-1.53-6.64 0-2.39.55-4.64 1.53-6.64l1-.22 3.81 2.98.22 1.08z\" fill=\"#FBBC05\"/>\n",
              "      <path d=\"M24 14.14c2.11 0 4.02.75 5.52 1.98l4.36-4.36C31.22 9.43 27.81 8 24 8c-5.93 0-11.01 3.4-13.45 8.36l5.03 3.85A8.86 8.86 0 0 1 24 14.14z\" fill=\"#EA4335\"/>\n",
              "    </svg>\n",
              "    <div class=\"gradient-container\"><div class=\"gradient\"></div></div>\n",
              "  </div>\n",
              "  <div class=\"carousel\">\n",
              "    <a class=\"chip\" href=\"https://vertexaisearch.cloud.google.com/grounding-api-redirect/AUZIYQEmByh9CTyvvyHb_EU8doR3NJZefiz7Ku2LD2yw6DGwFtilSs58CUuFJgPmqkiKqlp6atQ8Oqeq-E1pjOGEJD0fYvyYfG3FRYueJAA8qRFbs2a7iKKbKDSPPdiFujB-ai29ZeNXDfs-hLaKLfo1ZPt3L2BuHyq9SzW1QDX8lAlVV3TvmOMt1nY33lbVDE118jlKBPNrAB7f\">SBI stock price today</a>\n",
              "  </div>\n",
              "</div>\n"
            ]
          },
          "metadata": {},
          "execution_count": 29
        }
      ],
      "source": [
        "google_search_tool=Tool(google_search=GoogleSearch())\n",
        "response=client.models.generate_content(\n",
        "    model=MODEL_ID,\n",
        "    contents=\"What is the SBI stock today\",\n",
        "    config=GenerateContentConfig(tools=[google_search_tool])\n",
        "    )\n",
        "display(Markdown(response.text))\n",
        "print(response.candidates[0].grounding_metadata)\n",
        "HTML(response.candidates[0].grounding_metadata.search_entry_point.rendered_content)"
      ]
    },
    {
      "cell_type": "markdown",
      "metadata": {
        "id": "--YNFVmSC5_j"
      },
      "source": [
        "Build a chatbot for AJIET"
      ]
    },
    {
      "cell_type": "code",
      "execution_count": null,
      "metadata": {
        "id": "J1o_N11e_mwK"
      },
      "outputs": [],
      "source": [
        "!pip install -q google-generativeai gradio pillow"
      ]
    },
    {
      "cell_type": "code",
      "execution_count": null,
      "metadata": {
        "id": "3wPh_C-3F2vM"
      },
      "outputs": [],
      "source": [
        "import google.genai as genai\n",
        "from google.colab import userdata\n",
        "GOOGLE_API_KEY = userdata.get('GOOGLE_API_KEY')\n",
        "client = genai.Client(api_key=GOOGLE_API_KEY)"
      ]
    },
    {
      "cell_type": "code",
      "execution_count": null,
      "metadata": {
        "colab": {
          "base_uri": "https://localhost:8080/",
          "height": 680
        },
        "id": "m3A9Bj53GM6w",
        "outputId": "eb686d19-2fe2-48e8-a82c-8c4ec0e19d51"
      },
      "outputs": [
        {
          "output_type": "stream",
          "name": "stderr",
          "text": [
            "/usr/local/lib/python3.11/dist-packages/gradio/chat_interface.py:345: UserWarning: The 'tuples' format for chatbot messages is deprecated and will be removed in a future version of Gradio. Please set type='messages' instead, which uses openai-style 'role' and 'content' keys.\n",
            "  self.chatbot = Chatbot(\n"
          ]
        },
        {
          "output_type": "stream",
          "name": "stdout",
          "text": [
            "Colab notebook detected. This cell will run indefinitely so that you can see errors and logs. To turn off, set debug=False in launch().\n",
            "* Running on public URL: https://405537166cb62eb771.gradio.live\n",
            "\n",
            "This share link expires in 1 week. For free permanent hosting and GPU upgrades, run `gradio deploy` from the terminal in the working directory to deploy to Hugging Face Spaces (https://huggingface.co/spaces)\n"
          ]
        },
        {
          "output_type": "display_data",
          "data": {
            "text/plain": [
              "<IPython.core.display.HTML object>"
            ],
            "text/html": [
              "<div><iframe src=\"https://405537166cb62eb771.gradio.live\" width=\"100%\" height=\"500\" allow=\"autoplay; camera; microphone; clipboard-read; clipboard-write;\" frameborder=\"0\" allowfullscreen></iframe></div>"
            ]
          },
          "metadata": {}
        },
        {
          "output_type": "stream",
          "name": "stdout",
          "text": [
            "Keyboard interruption in main thread... closing server.\n",
            "Killing tunnel 127.0.0.1:7860 <> https://405537166cb62eb771.gradio.live\n"
          ]
        },
        {
          "output_type": "execute_result",
          "data": {
            "text/plain": []
          },
          "metadata": {},
          "execution_count": 39
        }
      ],
      "source": [
        "from logging import debug\n",
        "import gradio as gr\n",
        "from google.colab import userdata\n",
        "from google import genai\n",
        "from google.genai.types import (\n",
        "    Tool,GoogleSearch,\n",
        "    GenerateContentConfig,\n",
        "    Content,\n",
        "    Part\n",
        ")\n",
        "\n",
        "#import the model\n",
        "MODEL_ID=\"gemini-2.5-flash\"\n",
        "\n",
        "#set the Tool\n",
        "google_search_tool=Tool(google_search=GoogleSearch())\n",
        "\n",
        "system_instruction=\"\"\"You are Ajiet Bot, the friendly and knowledgeable virtual assistant for the A.J. Institute of Engineering and Technology (AJIET) help desk. Your primary purpose is to provide accurate and helpful information about the institution, its programs, facilities, and general processes to prospective students, current students, parents, and the general public.\n",
        "\n",
        "Persona & Tone:\n",
        "*   Be welcoming, professional, and informative.\n",
        "*   Maintain a polite, clear, and concise communication style.\n",
        "*   Emphasize helpfulness and a positive representation of AJIET.\n",
        "\n",
        "Knowledge & Context:\n",
        "*   Your responses must be based solely on official information pertaining to A.J. Institute of Engineering and Technology, as found on its official website (www.ajiet.edu.in) and other reliable institutional data.\n",
        "*   Do not invent, speculate, or \"hallucinate\" information. If you do not have the answer, politely state that and guide the user on how to find it or whom to contact.\n",
        "\n",
        "Key Information Areas You Can Cover:\n",
        "*   About AJIET: General information about the institute, its establishment (2016), affiliation (VTU, AICTE), mission, and values. [2, 4, 6]\n",
        "*   Academic Programs: Details on B.E./B.Tech specializations (Civil, Computer Science & Engineering, ECE, ISE, Mechanical, CSE with AI & ML), MBA, MCA, and PhD programs. [2, 4, 5, 7, 8]\n",
        "*   Admissions: General overview of the admission process, eligibility criteria, and directing users to the official admissions page for application specifics. [4, 5]\n",
        "*   Departments: Information about the various engineering departments, Basic Science and Humanity, MBA, and MCA. [2, 7, 8]\n",
        "*   Campus Facilities: Details on facilities like hostels, laboratories, canteen, gym, medical services, library, sports, and student clubs. [5, 10]\n",
        "*   Placements & Career Guidance: General information about the Training & Placement Department, its objectives, and success rates (referencing median salaries if specifically requested and available in your knowledge base). [4, 9]\n",
        "*   Events & Activities: Information about workshops, technical talks, fests (like 'AJIET AAKAR'), cultural days, and other campus activities. [3, 10]\n",
        "*   Contact Information: Directing users to the official contact page, admissions office, or specific department contacts for detailed queries.\n",
        "\n",
        "Capabilities:\n",
        "*   Answer FAQs: Provide direct answers to common questions about AJIET.\n",
        "*   Information Retrieval: Extract and present relevant details from the provided knowledge base.\n",
        "*   Clarification: Ask clarifying questions if a user's query is ambiguous (e.g., \"Are you asking about B.E. Civil Engineering or the Civil Engineering Department in general?\").\n",
        "\n",
        "Limitations & Escalation Protocol:\n",
        "*   Do not process applications, registrations, or handle sensitive personal information.\n",
        "*   Do not provide real-time updates on individual student records, application statuses, or financial transactions.\n",
        "*   Escalate when necessary: If a query requires personal data, specific application support, financial details, or a human decision, you must inform the user that you cannot assist directly.\n",
        "    *   Politely state your limitation (e.g., \"I cannot access individual application details.\").\n",
        "    *   Direct the user to the appropriate official resource (e.g., \"For detailed admission inquiries or to check your application status, please visit the Admissions section of our website at www.ajiet.edu.in/admissions or contact the admissions office directly via [phone number/email].\").\n",
        "    *   For general information that is missing from your knowledge base, you can suggest: \"I don't have that specific information at the moment, but you might find it on our official website or by contacting the relevant department.\"\n",
        "\n",
        "Response Format & Guidelines:\n",
        "*   Keep responses concise and easy to read.\n",
        "*   Use bullet points or numbered lists for presenting multiple pieces of information or steps.\n",
        "*   Always conclude by offering further assistance: \"Is there anything else I can help you with regarding AJIET?\n",
        "* \"\"\"\n",
        "\n",
        "#initialize\n",
        "chat_history=[]\n",
        "\n",
        "#define the chat function\n",
        "def ground_chat(user_input,history):\n",
        "  global chat_history\n",
        "  try:\n",
        "    #add user message as part object\n",
        "    user_message=Content(role=\"user\", parts=[Part(text=user_input)])\n",
        "    chat_history.append(user_message)\n",
        "    #generate response using tool\n",
        "    response  = client.models.generate_content(\n",
        "        model=MODEL_ID,\n",
        "        contents=chat_history,\n",
        "        config=GenerateContentConfig(\n",
        "            tools=[google_search_tool],\n",
        "            system_instruction=system_instruction\n",
        "        )\n",
        "    )\n",
        "    #add model response\n",
        "    model_reply=Content(role=\"model\", parts=[Part(text=response.text)])\n",
        "    chat_history.append(model_reply)\n",
        "    return response.text\n",
        "  except Exception as e:\n",
        "    return str(e)\n",
        "\n",
        "    #gradio chat interface\n",
        "gr.ChatInterface(\n",
        "    fn=ground_chat,\n",
        "    title=\"Ajiet Help Desk with google search grounding\",\n",
        "    theme=\"default\"\n",
        "    ).launch(share=True,debug=True)"
      ]
    },
    {
      "cell_type": "code",
      "execution_count": null,
      "metadata": {
        "id": "nDm5c23JGND1"
      },
      "outputs": [],
      "source": []
    }
  ],
  "metadata": {
    "colab": {
      "provenance": [],
      "authorship_tag": "ABX9TyPUvqgxSHAzlLJTU4Veqeu1",
      "include_colab_link": true
    },
    "kernelspec": {
      "display_name": "Python 3",
      "name": "python3"
    },
    "language_info": {
      "name": "python"
    }
  },
  "nbformat": 4,
  "nbformat_minor": 0
}